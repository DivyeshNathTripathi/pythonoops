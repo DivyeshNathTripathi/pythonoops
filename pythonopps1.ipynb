{
  "nbformat": 4,
  "nbformat_minor": 0,
  "metadata": {
    "colab": {
      "provenance": []
    },
    "kernelspec": {
      "name": "python3",
      "display_name": "Python 3"
    },
    "language_info": {
      "name": "python"
    }
  },
  "cells": [
    {
      "cell_type": "markdown",
      "source": [
        "Q1. Explain Class and Object with respect to Object-Oriented Programming. Give a suitable example.\n",
        "\n",
        "**Answer** :\n",
        "**Class**: A class is a blueprint for creating objects. It defines the attributes (data) and methods (functions) that the objects created from the class will have.\n",
        "\n",
        "**Object**: An object is an instance of a class. It is a real-world entity that has a unique identity, properties (attributes), and behavior (methods).\n",
        "**Example**"
      ],
      "metadata": {
        "id": "9oKvZgd1mAic"
      }
    },
    {
      "cell_type": "code",
      "execution_count": 1,
      "metadata": {
        "colab": {
          "base_uri": "https://localhost:8080/"
        },
        "id": "33tP3BoNl1-M",
        "outputId": "50c09690-24d5-458c-e327-805098c42cc4"
      },
      "outputs": [
        {
          "output_type": "stream",
          "name": "stdout",
          "text": [
            "Brand: Toyota, Model: Corolla\n"
          ]
        }
      ],
      "source": [
        "class Car:\n",
        "    def __init__(self, brand, model):\n",
        "        self.brand = brand\n",
        "        self.model = model\n",
        "\n",
        "    def display_info(self):\n",
        "        return f\"Brand: {self.brand}, Model: {self.model}\"\n",
        "\n",
        "# Create an object\n",
        "my_car = Car(\"Toyota\", \"Corolla\")\n",
        "print(my_car.display_info())\n"
      ]
    },
    {
      "cell_type": "markdown",
      "source": [
        "Q2. Name the four pillars of OOPs.\n",
        "\n",
        "**Answer** :\n",
        "The four pillars of Object-Oriented Programming are:\n",
        "\n",
        "\n",
        "\n",
        "\n",
        "1.  Encapsulation\n",
        "2.  Inheritance\n",
        "1.   Polymorphism\n",
        "2.   Abstraction\n",
        "\n",
        "\n",
        "\n",
        "\n",
        "\n",
        "\n",
        "\n"
      ],
      "metadata": {
        "id": "f0WU6zT1l8km"
      }
    },
    {
      "cell_type": "markdown",
      "source": [
        "Q3. Explain why the __init__() function is used. Give a suitable example.\n",
        "\n",
        "**Answer** :\n",
        "The __init__() function is the constructor in Python. It is automatically called when an object is created. It is used to initialize the attributes of a class.\n",
        "\n",
        "**Example**:"
      ],
      "metadata": {
        "id": "zi6RPdMNnRQu"
      }
    },
    {
      "cell_type": "code",
      "source": [
        "class Student:\n",
        "    def __init__(self, name, age):\n",
        "        self.name = name\n",
        "        self.age = age\n",
        "\n",
        "    def greet(self):\n",
        "        return f\"Hi, I am {self.name} and I am {self.age} years old.\"\n",
        "\n",
        "# Create an object\n",
        "student = Student(\"Alice\", 21)\n",
        "print(student.greet())\n"
      ],
      "metadata": {
        "colab": {
          "base_uri": "https://localhost:8080/"
        },
        "id": "cnTs9-7inl9I",
        "outputId": "e508af77-f592-49d7-d480-7737654bce0a"
      },
      "execution_count": 2,
      "outputs": [
        {
          "output_type": "stream",
          "name": "stdout",
          "text": [
            "Hi, I am Alice and I am 21 years old.\n"
          ]
        }
      ]
    },
    {
      "cell_type": "markdown",
      "source": [
        "Q4. Why is self used in OOPs?\n",
        "\n",
        "**Answer** :\n",
        "The self keyword is used in Python to represent the instance of a class. It is used to access attributes and methods of the class in Python. It allows each object to maintain its own state.\n",
        "\n",
        "**Example**:"
      ],
      "metadata": {
        "id": "yvgUWMd0ntG1"
      }
    },
    {
      "cell_type": "code",
      "source": [
        "class Circle:\n",
        "    def __init__(self, radius):\n",
        "        self.radius = radius\n",
        "\n",
        "    def area(self):\n",
        "        return 3.14 * self.radius ** 2\n",
        "\n",
        "# Create an object\n",
        "circle = Circle(5)\n",
        "print(circle.area())\n"
      ],
      "metadata": {
        "colab": {
          "base_uri": "https://localhost:8080/"
        },
        "id": "hvgrJU85nwwF",
        "outputId": "b14506d4-be9c-4536-ee0c-7b6a0e638160"
      },
      "execution_count": 3,
      "outputs": [
        {
          "output_type": "stream",
          "name": "stdout",
          "text": [
            "78.5\n"
          ]
        }
      ]
    },
    {
      "cell_type": "markdown",
      "source": [
        "Q5. What is inheritance? Give an example for each type of inheritance.\n",
        "\n",
        "**Answer**\n",
        "\n",
        "Inheritance is a mechanism in OOP where one class can derive the properties and methods of another class. It allows code reuse and the creation of a hierarchical structure.\n",
        "\n",
        "\n",
        "\n",
        "1.  Single Inheritance:\n",
        "\n"
      ],
      "metadata": {
        "id": "27a4yQBin4sg"
      }
    },
    {
      "cell_type": "code",
      "source": [
        "class Parent:\n",
        "    def func1(self):\n",
        "        return \"This is a parent method.\"\n",
        "\n",
        "class Child(Parent):\n",
        "    def func2(self):\n",
        "        return \"This is a child method.\"\n",
        "\n",
        "obj = Child()\n",
        "print(obj.func1())\n",
        "print(obj.func2())\n"
      ],
      "metadata": {
        "colab": {
          "base_uri": "https://localhost:8080/"
        },
        "id": "9-wwAIyZoDKK",
        "outputId": "b31ea664-324d-4646-8f74-654a948f546c"
      },
      "execution_count": 4,
      "outputs": [
        {
          "output_type": "stream",
          "name": "stdout",
          "text": [
            "This is a parent method.\n",
            "This is a child method.\n"
          ]
        }
      ]
    },
    {
      "cell_type": "markdown",
      "source": [
        "\n",
        "\n",
        "\n",
        "2.  Multiple Inheritance:\n",
        "\n"
      ],
      "metadata": {
        "id": "0C5DlFkLoLEB"
      }
    },
    {
      "cell_type": "code",
      "source": [
        "class Class1:\n",
        "    def method1(self):\n",
        "        return \"Method from Class1.\"\n",
        "\n",
        "class Class2:\n",
        "    def method2(self):\n",
        "        return \"Method from Class2.\"\n",
        "\n",
        "class Derived(Class1, Class2):\n",
        "    pass\n",
        "\n",
        "obj = Derived()\n",
        "print(obj.method1())\n",
        "print(obj.method2())\n"
      ],
      "metadata": {
        "colab": {
          "base_uri": "https://localhost:8080/"
        },
        "id": "2EKvQ7uaoPck",
        "outputId": "70cd3028-61b1-4457-93d2-d95666b255f6"
      },
      "execution_count": 5,
      "outputs": [
        {
          "output_type": "stream",
          "name": "stdout",
          "text": [
            "Method from Class1.\n",
            "Method from Class2.\n"
          ]
        }
      ]
    },
    {
      "cell_type": "markdown",
      "source": [
        "\n",
        "\n",
        "\n",
        "3.   Multilevel Inheritance:\n",
        "\n",
        "\n",
        "\n",
        "\n"
      ],
      "metadata": {
        "id": "xi6_TdQ3oXcu"
      }
    },
    {
      "cell_type": "code",
      "source": [
        "class Grandparent:\n",
        "    def func1(self):\n",
        "        return \"Grandparent method.\"\n",
        "\n",
        "class Parent(Grandparent):\n",
        "    def func2(self):\n",
        "        return \"Parent method.\"\n",
        "\n",
        "class Child(Parent):\n",
        "    def func3(self):\n",
        "        return \"Child method.\"\n",
        "\n",
        "obj = Child()\n",
        "print(obj.func1())\n",
        "print(obj.func2())\n",
        "print(obj.func3())\n"
      ],
      "metadata": {
        "colab": {
          "base_uri": "https://localhost:8080/"
        },
        "id": "3SGB3BF-ofTR",
        "outputId": "bb67f43f-e973-4684-d72e-82c8cc6d13ad"
      },
      "execution_count": 6,
      "outputs": [
        {
          "output_type": "stream",
          "name": "stdout",
          "text": [
            "Grandparent method.\n",
            "Parent method.\n",
            "Child method.\n"
          ]
        }
      ]
    },
    {
      "cell_type": "markdown",
      "source": [
        "\n",
        "\n",
        "4. Hierarchical Inheritance:\n",
        "\n"
      ],
      "metadata": {
        "id": "qXaCmfYOojHr"
      }
    },
    {
      "cell_type": "code",
      "source": [
        "class Parent:\n",
        "    def func1(self):\n",
        "        return \"Parent method.\"\n",
        "\n",
        "class Child1(Parent):\n",
        "    def func2(self):\n",
        "        return \"Child1 method.\"\n",
        "\n",
        "class Child2(Parent):\n",
        "    def func3(self):\n",
        "        return \"Child2 method.\"\n",
        "\n",
        "obj1 = Child1()\n",
        "obj2 = Child2()\n",
        "print(obj1.func1())\n",
        "print(obj2.func1())\n"
      ],
      "metadata": {
        "colab": {
          "base_uri": "https://localhost:8080/"
        },
        "id": "e8W_Y5K0ooSa",
        "outputId": "3df50bb1-8df3-4e53-aaf1-91be60ea71fc"
      },
      "execution_count": 7,
      "outputs": [
        {
          "output_type": "stream",
          "name": "stdout",
          "text": [
            "Parent method.\n",
            "Parent method.\n"
          ]
        }
      ]
    },
    {
      "cell_type": "markdown",
      "source": [
        "\n",
        "5.   Hybrid Inheritance: (Combines two or more types of inheritance.)\n",
        "\n"
      ],
      "metadata": {
        "id": "xNN1uRieoq01"
      }
    },
    {
      "cell_type": "code",
      "source": [
        "class Base:\n",
        "    def base_func(self):\n",
        "        return \"Base method.\"\n",
        "\n",
        "class Derived1(Base):\n",
        "    def derived1_func(self):\n",
        "        return \"Derived1 method.\"\n",
        "\n",
        "class Derived2(Base):\n",
        "    def derived2_func(self):\n",
        "        return \"Derived2 method.\"\n",
        "\n",
        "class Hybrid(Derived1, Derived2):\n",
        "    pass\n",
        "\n",
        "obj = Hybrid()\n",
        "print(obj.base_func())\n",
        "print(obj.derived1_func())\n",
        "print(obj.derived2_func())\n"
      ],
      "metadata": {
        "colab": {
          "base_uri": "https://localhost:8080/"
        },
        "id": "BtbEKAMrozWi",
        "outputId": "52f55af5-8dcb-4309-b628-af67b058cf93"
      },
      "execution_count": 8,
      "outputs": [
        {
          "output_type": "stream",
          "name": "stdout",
          "text": [
            "Base method.\n",
            "Derived1 method.\n",
            "Derived2 method.\n"
          ]
        }
      ]
    }
  ]
}